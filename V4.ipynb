{
 "cells": [
  {
   "cell_type": "markdown",
   "metadata": {},
   "source": [
    "# Projeto de Ciência dos Dados \n",
    "\n",
    "**Professor: Fábio Roberto Miranda**\n",
    "\n",
    "**Aluna: Giulia Araujo Castro - 2B - Engenharia Mecatrônica**"
   ]
  },
  {
   "cell_type": "markdown",
   "metadata": {},
   "source": [
    "**Perguntas:**\n",
    "\n",
    "Ao entrar na OPEP um país altera sua produção de petróleo? Pertencer à OPEP significa conseguir agregar valor aos barris de petróleo vendidos e aumentar a quaidade de vida de seus cidadões? "
   ]
  },
  {
   "cell_type": "markdown",
   "metadata": {},
   "source": [
    "## A OPEP"
   ]
  },
  {
   "cell_type": "markdown",
   "metadata": {},
   "source": [
    "A OPEP (Organização dos Países Exportadores de Petróleo) funciona como uma espécie de cartel que unifica as leis e preços dos barris dos principais exportadores de petróleo, buscando, assim, estabilizar o mercado de petróleo. Ou seja, os paises participantes da OPEP conseguem agregar mais valor aos seus barris e, em teoria, conseguem ganhar a mesma quantidade de dinheiro produzindo menos.\n",
    "\n",
    "Para saber mais, acesse o site da OPEP: https://www.opec.org/opec_web/en/about_us/23.htm"
   ]
  },
  {
   "cell_type": "markdown",
   "metadata": {},
   "source": [
    "## Explicação da hipótese e mecanismo"
   ]
  },
  {
   "cell_type": "markdown",
   "metadata": {},
   "source": [
    "Sabendo da premissa do funcionamento da OPEP, na teoria a organização buscaria agregar mais valor do que o normal aos barris de petróleo exportados pelos países pertencentes ao grupo. Porém, como mostrado no artigo abaixo, a Arábia Saudita apresenta um papel central e dominante na OPEP, caracterizando, na prática, a organização como um grupo com objetivos heterogêneos. Além disso, o artigo também analisa o sucesso da OPEP como organização à longo prazo e conclui que \"apesar do sucesso de intervenções pontuais no mercado em momentos de crise e do impacto que suas decisões exercem sobre o preço do petróleo, a OPEP não é capaz de unir-se em torno de uma estratégia de longo prazo e, por isso, não dispõe credibilidade para tornar sua meta oficial de preços um bom parâmetro de mercado\".\n",
    "\n",
    "Sendo assim, espera-se que a produção de petróleo em cada país não seja modificada devido a participação do mesmo na OPEP, já que esta não trata-se da produção de petróleo, mas do preço dos barris exportados. Porém, espera-se nesse trabalho que o PIB desses países não cresca muito mais rapidamente do que o PIB dos países exportadores de petróleo que não participam da OPEP, pois, como observado pela pesquisa, devido aos interesses distintos dos participantes do grupo, a OPEP não consegue criar uma estratégia de mercado a longo prazo, falhando, assim, com o crescimento ao longo prazo do PIB. \n",
    "\n",
    "**Artigo disponível em: http://www.ie.ufrj.br/images/pesquisa/publicacoes/dissertacoes/2004/sobre_a_eficacia_da_opep_como_cartel_e_de_suas_metas_como_parametros_de_referencia_para_os_precos_do_petroleo.pdf**"
   ]
  },
  {
   "cell_type": "markdown",
   "metadata": {},
   "source": [
    "## Bases de dados usadas"
   ]
  },
  {
   "cell_type": "markdown",
   "metadata": {},
   "source": [
    "Foram coletados 2 dados do site https://www.gapminder.org/data/\n",
    "\n",
    "1) Produção de petróleo anual\n",
    "\n",
    "2) Crescimento anual do PIB\n",
    "\n",
    "Com esses dados podemos observar a produção de petróleo ao redor do mundo (1) e observar se a OPEP tem influência na produção de cada país. Além disso, podemos observar se há um crescimento significativo do PIB (2) e se esse crecimento ao mesmo tempo gera uma redução do índice de Gini.  "
   ]
  },
  {
   "cell_type": "markdown",
   "metadata": {},
   "source": [
    "## Análise dos dados"
   ]
  },
  {
   "cell_type": "code",
   "execution_count": 36,
   "metadata": {},
   "outputs": [],
   "source": [
    "#Carregando as bibliotecas\n",
    "%matplotlib inline\n",
    "import pandas as pd\n",
    "import matplotlib.pyplot as plt\n",
    "import numpy as np"
   ]
  },
  {
   "cell_type": "code",
   "execution_count": 37,
   "metadata": {},
   "outputs": [],
   "source": [
    "#Abrindo as planílhas do Excel\n",
    "produtores_petroleo = pd.read_excel('oil_production_total.xlsx')\n",
    "pib = pd.read_excel('gdp_total_yearly_growth.xlsx')"
   ]
  },
  {
   "cell_type": "code",
   "execution_count": 38,
   "metadata": {},
   "outputs": [],
   "source": [
    "#Lista com os países pertencentes à OPEP\n",
    "paises_OPEP_1975 = [\"Algeria\", \"Gabon\", \"Libya\", \"Nigeria\", \"Venezuela\", \"Ecuador\", \"Saudi Arabia\", \"United Arab Emirates\", \"Iran\", \"Iraq\", \"Kuwait\", \"Qatar\", \"Indonesia\"]\n",
    "paises_OPEP_1997 = [\"Algeria\", \"Libya\", \"Nigeria\", \"Venezuela\", \"Saudi Arabia\", \"United Arab Emirates\", \"Iran\", \"Iraq\", \"Kuwait\", \"Qatar\", \"Indonesia\"]\n",
    "paises_OPEP_2016 = [\"Angola\", \"Algeria\", \"Libya\", \"Nigeria\", \"Venezuela\", \"Ecuador\", \"Saudi Arabia\", \"United Arab Emirates\", \"Iran\", \"Iraq\", \"Kuwait\", \"Qatar\", \"Indonesia\"]"
   ]
  },
  {
   "cell_type": "code",
   "execution_count": 39,
   "metadata": {},
   "outputs": [],
   "source": [
    "#Criando coluna com valores 0 para todos os paises \n",
    "produtores_petroleo.loc[:, \"opep\"] = 0\n",
    "pib.loc[:, \"opep\"] = 0"
   ]
  },
  {
   "cell_type": "code",
   "execution_count": 40,
   "metadata": {},
   "outputs": [],
   "source": [
    "#Alterando o índice das tabelas \n",
    "produtores_petroleo_idx = produtores_petroleo.set_index('country')\n",
    "produtores_petroleo_idx2 = produtores_petroleo.set_index('country')\n",
    "produtores_petroleo_idx3 = produtores_petroleo.set_index('country')\n",
    "pib_idx = pib.set_index('country')\n",
    "pib_idx2 = pib.set_index('country')\n",
    "pib_idx3 = pib.set_index('country')"
   ]
  },
  {
   "cell_type": "code",
   "execution_count": 41,
   "metadata": {},
   "outputs": [],
   "source": [
    "#Alterando os valores dos países da OPEP de 0 para 1 nas tabelas\n",
    "OPEP_1975 = produtores_petroleo_idx.loc[paises_OPEP, \"opep\"] = 1\n",
    "OPEP_1997 = produtores_petroleo_idx2.loc[paises_OPEP_1975, \"opep\"] = 1\n",
    "OPEP_2013 = produtores_petroleo_idx3.loc[paises_OPEP_2016, \"opep\"] = 1\n",
    "\n",
    "PIB_1975 = pib_idx.loc[paises_OPEP_1975, \"opep\"] = 1\n",
    "PIB_1997 = pib_idx2.loc[paises_OPEP_1975, \"opep\"] = 1\n",
    "PIB_2013 = pib_idx3.loc[paises_OPEP_2016, \"opep\"] = 1"
   ]
  },
  {
   "cell_type": "markdown",
   "metadata": {},
   "source": [
    "### Ao entrar na OPEP um país aumenta consideravelmente sua produção de petróleo?"
   ]
  },
  {
   "cell_type": "markdown",
   "metadata": {},
   "source": [
    "Para analizar essa pergunta escolhemos observar os dados de 3 países (Gabão, Equador e Nigéria) ao longos dos anos de 1965 até 2000. A escolha dos países foi feita devido aos anos de entrada na OPEP, já que muitos entraram muito próximos, ou até antes, de 1965, ou então, entraram muito recentemente, o que prejudica a análise desejada."
   ]
  },
  {
   "cell_type": "code",
   "execution_count": 42,
   "metadata": {},
   "outputs": [],
   "source": [
    "#Recortando a tabela pegando apenas os países que desejamos utilizar\n",
    "GNE = produtores_petroleo_idx.loc[[\"Gabon\", \"Nigeria\", \"Ecuador\" ],:]\n",
    "\n",
    "#Recortar os anos que desejados\n",
    "P3 = GNE[GNE.columns[0:36]]\n",
    "\n",
    "#Transpondo a tabela \n",
    "GNE_transpose = P3.transpose()"
   ]
  },
  {
   "cell_type": "code",
   "execution_count": 43,
   "metadata": {},
   "outputs": [
    {
     "data": {
      "text/plain": [
       "Text(0.5, 1.0, 'Produção de petróleo de 1965 até 2005')"
      ]
     },
     "execution_count": 43,
     "metadata": {},
     "output_type": "execute_result"
    },
    {
     "data": {
      "image/png": "[encoded data removed]",
      "text/plain": [
       "<Figure size 432x288 with 1 Axes>"
      ]
     },
     "metadata": {
      "needs_background": "light"
     },
     "output_type": "display_data"
    }
   ],
   "source": [
    "#Plotando o gráfico para a vizualização dos dados \n",
    "GNE_transpose.plot(kind='bar', color=('yellow', 'salmon', 'green'))\n",
    "plt.ylabel('Produção de Petrólro')\n",
    "plt.xlabel('Anos')\n",
    "plt.title('Produção de petróleo de 1965 até 2005')"
   ]
  },
  {
   "cell_type": "markdown",
   "metadata": {},
   "source": [
    "Como podemos ver para o Gabão, que entrou na OPEP em 1975 e saiu em 1994, participar do cartel não alterou a produção interna de petróleo. O país já passava por um aumento de produção e depois que entrou no cartel chegou ao seu pico diminuindo logo depois. Podemos ver também que, mesmo deixando o cartel em 1994, a produção depetróleo não é alterada. \n",
    "\n",
    "Para a Nigéria, que ingressou em 1971, podemos notar um alto crescimento na produção nos anos de 1972, 1973 e 1974. Porém, ao analizarmos o gráfico, nota-se que o país já apresentava um movimento alto de crescimento antes mesmo de entrar na OPEP. Sendo assim, não podemos chegar à uma conclusão se esse aumento foi ou não impulsionado pela participação na OPEP ou não. \n",
    "\n",
    "Em 1973 o Equador inicia a atuar como um membro da organização. Podemos notar um altíssimo aumento na prdução de petróleo nesse ano, que se manteve ao longo dos outros anos. O que talvez possa indicar que ingressar na OPEP o Equador buscou aumentar sua produção anual de petróleo. Porém, ao sair do cartel, em 1992, a produção continua a crescer em baixas taxas.   "
   ]
  },
  {
   "cell_type": "markdown",
   "metadata": {},
   "source": [
    "**Será que a OPEP realmente era uma organização com representatividade no mercado produtivo de petróleo ao longo desses anos?**\n",
    "\n",
    "Para analizar isso vamos fazer a análise da produção de petróleo em 1975, 1997 e em 2016 para entendermos qual foi a representatividade da OPEP ao longo dos anos."
   ]
  },
  {
   "cell_type": "markdown",
   "metadata": {},
   "source": [
    "**1975**"
   ]
  },
  {
   "cell_type": "code",
   "execution_count": 44,
   "metadata": {},
   "outputs": [],
   "source": [
    "#Recortando a tabela pegando apenas os países que desejados e retirando os valores nulos\n",
    "OPEP_1975 = produtores_petroleo_idx2.loc[:,[1975, \"opep\"]].dropna()"
   ]
  },
  {
   "cell_type": "code",
   "execution_count": 45,
   "metadata": {},
   "outputs": [
    {
     "data": {
      "text/plain": [
       "Text(0.5, 1.0, 'Produção de petróleo em 1975')"
      ]
     },
     "execution_count": 45,
     "metadata": {},
     "output_type": "execute_result"
    },
    {
     "data": {
      "image/png": "[encoded data removed]",
      "text/plain": [
       "<Figure size 432x288 with 1 Axes>"
      ]
     },
     "metadata": {},
     "output_type": "display_data"
    }
   ],
   "source": [
    "#Somando a produção de petróleo anual dos países\n",
    "pie_1975 = OPEP_1975.groupby(\"opep\").sum() \n",
    "\n",
    "#Plotando o gráfico para a visualização\n",
    "pie_1975[1975].plot(kind='pie', colors=('blue', 'red'), autopct=\"%0.2f\",legend=False)\n",
    "plt.title('Produção de petróleo em 1975')"
   ]
  },
  {
   "cell_type": "markdown",
   "metadata": {},
   "source": [
    "**1997**"
   ]
  },
  {
   "cell_type": "code",
   "execution_count": 46,
   "metadata": {},
   "outputs": [],
   "source": [
    "#Recortando a tabela pegando apenas os países que desejados e retirando os valores nulos\n",
    "OPEP_1997= produtores_petroleo_idx.loc[:,[1997, \"opep\"]].dropna()"
   ]
  },
  {
   "cell_type": "code",
   "execution_count": 47,
   "metadata": {},
   "outputs": [
    {
     "data": {
      "text/plain": [
       "Text(0.5, 1.0, 'Produção de petróleo em 1997')"
      ]
     },
     "execution_count": 47,
     "metadata": {},
     "output_type": "execute_result"
    },
    {
     "data": {
      "image/png": "[encoded data removed]",
      "text/plain": [
       "<Figure size 432x288 with 1 Axes>"
      ]
     },
     "metadata": {},
     "output_type": "display_data"
    }
   ],
   "source": [
    "#Somando a produção de petróleo anual dos países\n",
    "pie_1997 = OPEP_1997.groupby(\"opep\").sum() \n",
    "\n",
    "#Plotando o gráfico para a visualização\n",
    "pie_1997[1997].plot(kind='pie', colors=('blue', 'red'), autopct=\"%0.2f\",legend=False)\n",
    "plt.title('Produção de petróleo em 1997')"
   ]
  },
  {
   "cell_type": "code",
   "execution_count": 48,
   "metadata": {},
   "outputs": [],
   "source": [
    "#Recortando a tabela pegando apenas os países que desejados e retirando os valores nulos\n",
    "OPEP_2013 = produtores_petroleo_idx3.loc[:,[2013, \"opep\"]].dropna()"
   ]
  },
  {
   "cell_type": "code",
   "execution_count": 49,
   "metadata": {},
   "outputs": [
    {
     "data": {
      "text/plain": [
       "Text(0.5, 1.0, 'Produção de petróleo em 2013')"
      ]
     },
     "execution_count": 49,
     "metadata": {},
     "output_type": "execute_result"
    },
    {
     "data": {
      "image/png": "[encoded data removed]",
      "text/plain": [
       "<Figure size 432x288 with 1 Axes>"
      ]
     },
     "metadata": {},
     "output_type": "display_data"
    }
   ],
   "source": [
    "#Somando a produção de petróleo anual dos países\n",
    "pie_2013 = OPEP_2013.groupby(\"opep\").sum() \n",
    "\n",
    "#Plotando o gráfico para a visualização\n",
    "pie_2013[2013].plot(kind='pie', colors=('blue', 'red'), autopct=\"%0.2f\",legend=False)\n",
    "plt.title('Produção de petróleo em 2013')"
   ]
  },
  {
   "cell_type": "markdown",
   "metadata": {},
   "source": [
    "INSERIR ANÁLISE DOS GRÁFICOS"
   ]
  },
  {
   "cell_type": "markdown",
   "metadata": {},
   "source": [
    "### Análise do PIB dos países"
   ]
  },
  {
   "cell_type": "code",
   "execution_count": 50,
   "metadata": {},
   "outputs": [],
   "source": [
    "#Recortando a tabela pegando apenas os países que desejamos utilizar\n",
    "PIB_1975 = pib_idx.loc[:,[1975, \"opep\"]].dropna()\n",
    "PIB_1997 = pib_idx2.loc[:,[1997, \"opep\"]].dropna()\n",
    "PIB_2013 = pib_idx3.loc[:,[2013, \"opep\"]].dropna()"
   ]
  },
  {
   "cell_type": "code",
   "execution_count": 55,
   "metadata": {},
   "outputs": [],
   "source": [
    "#Fazendo a junção de tabelas\n",
    "PIB_PP_1975 = OPEP_1975.join(PIB_1975, how='inner', lsuffix='_PIB', rsuffix='_petroleo')\n",
    "PIB_PP_1997 = OPEP_1997.join(PIB_1997, how='inner', lsuffix='_PIB', rsuffix='_petroleo')\n",
    "PIB_PP_2013 = OPEP_2013.join(PIB_2013, how='inner', lsuffix='_PIB', rsuffix='_petroleo')\n"
   ]
  },
  {
   "cell_type": "code",
   "execution_count": 58,
   "metadata": {},
   "outputs": [
    {
     "data": {
      "image/png": "[encoded data removed]",
      "text/plain": [
       "<Figure size 432x288 with 1 Axes>"
      ]
     },
     "metadata": {
      "needs_background": "light"
     },
     "output_type": "display_data"
    }
   ],
   "source": [
    "plt.scatter(PIB_PP_1975.loc[PIB_PP_1975.opep_PIB == 1, \"1975_PIB\"], PIB_PP_1975.loc[PIB_PP_1975.opep_petroleo == 1,\"1975_petroleo\"], color=\"turquoise\")\n",
    "plt.scatter(PIB_PP_1975.loc[PIB_PP_1975.opep_PIB == 0, \"1975_PIB\"], PIB_PP_1975.loc[PIB_PP_1975.opep_petroleo == 0,\"1975_petroleo\"], color=\"indigo\")\n",
    "plt.grid()"
   ]
  },
  {
   "cell_type": "code",
   "execution_count": null,
   "metadata": {},
   "outputs": [],
   "source": []
  }
 ],
 "metadata": {
  "kernelspec": {
   "display_name": "Python 3",
   "language": "python",
   "name": "python3"
  },
  "language_info": {
   "codemirror_mode": {
    "name": "ipython",
    "version": 3
   },
   "file_extension": ".py",
   "mimetype": "text/x-python",
   "name": "python",
   "nbconvert_exporter": "python",
   "pygments_lexer": "ipython3",
   "version": "3.7.1"
  }
 },
 "nbformat": 4,
 "nbformat_minor": 2
}
