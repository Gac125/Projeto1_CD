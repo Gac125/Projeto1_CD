{
 "cells": [
  {
   "cell_type": "markdown",
   "metadata": {},
   "source": [
    "# Projeto de Ciência dos Dados \n",
    "\n",
    "**Professor: Fábio Roberto Miranda**\n",
    "\n",
    "**Aluna: Giulia Araujo Castro - 2B - Engenharia Mecatrônica**"
   ]
  },
  {
   "cell_type": "markdown",
   "metadata": {},
   "source": [
    "**Perguntas:**\n",
    "\n",
    "Ao entrar na OPEP um país altera sua produção de petróleo? Pertencer à OPEP significa conseguir aumentar a quaidade de vida de seus cidadões? "
   ]
  },
  {
   "cell_type": "markdown",
   "metadata": {},
   "source": [
    "## A OPEP"
   ]
  },
  {
   "cell_type": "markdown",
   "metadata": {},
   "source": [
    "A OPEP (Organização dos Países Exportadores de Petróleo) funciona como uma espécie de cartel que unifica as leis e preços dos barris dos principais exportadores de petróleo, buscando, assim, estabilizar o mercado de petróleo. Ou seja, os paises participantes da OPEP conseguem agregar mais valor aos seus barris e, em teoria, conseguem ganhar a mesma quantidade de dinheiro produzindo menos.\n",
    "\n",
    "Para saber mais, acesse o site da OPEP: https://www.opec.org/opec_web/en/about_us/23.htm"
   ]
  },
  {
   "cell_type": "markdown",
   "metadata": {},
   "source": [
    "## Explicação da hipótese e mecanismo"
   ]
  },
  {
   "cell_type": "markdown",
   "metadata": {},
   "source": [
    "ARRUMAR"
   ]
  },
  {
   "cell_type": "markdown",
   "metadata": {},
   "source": [
    "## Bases de dados usadas"
   ]
  },
  {
   "cell_type": "markdown",
   "metadata": {},
   "source": [
    "Foram coletados 2 dados do site https://www.gapminder.org/data/\n",
    "\n",
    "1) Produção de petróleo anual\n",
    "\n",
    "2) IDH\n",
    "\n",
    "Com esses dados podemos observar a produção de petróleo ao redor do mundo (1) e observar se a OPEP tem influência na produção de cada país. Além disso, podemos observar se há um crescimento significativo do PIB (2) e se esse crecimento ao mesmo tempo gera uma redução do índice de Gini.  "
   ]
  },
  {
   "cell_type": "markdown",
   "metadata": {},
   "source": [
    "## Análise dos dados"
   ]
  },
  {
   "cell_type": "code",
   "execution_count": 29,
   "metadata": {},
   "outputs": [],
   "source": [
    "#Carregando as bibliotecas\n",
    "%matplotlib inline\n",
    "import pandas as pd\n",
    "import matplotlib.pyplot as plt\n",
    "import numpy as np"
   ]
  },
  {
   "cell_type": "code",
   "execution_count": 30,
   "metadata": {},
   "outputs": [],
   "source": [
    "#Abrindo as planílhas do Excel\n",
    "produtores_petroleo = pd.read_excel('oil_production_total.xlsx')\n",
    "idh = pd.read_excel('hdi_human_development_index.xlsx')"
   ]
  },
  {
   "cell_type": "code",
   "execution_count": 52,
   "metadata": {},
   "outputs": [],
   "source": [
    "#Lista com os países pertencentes à OPEP\n",
    "paises_OPEP_1990 = [\"Angola\", \"Algeria\", \"Gabon\", \"Equatorial Guinea\", \"Libya\", \"Nigeria\", \"Venezuela\", \"Ecuador\", \"Saudi Arabia\", \"United Arab Emirates\", \"Iran\", \"Iraq\", \"Kuwait\", \"Qatar\", \"Indonesia\"]\n",
    "paises_OPEP_1975 = [\"Algeria\", \"Gabon\", \"Libya\", \"Nigeria\", \"Venezuela\", \"Ecuador\", \"Saudi Arabia\", \"United Arab Emirates\", \"Iran\", \"Iraq\", \"Kuwait\", \"Qatar\", \"Indonesia\"]\n",
    "paises_OPEP_2016 = [\"Angola\", \"Algeria\", \"Libya\", \"Nigeria\", \"Venezuela\", \"Ecuador\", \"Saudi Arabia\", \"United Arab Emirates\", \"Iran\", \"Iraq\", \"Kuwait\", \"Qatar\", \"Indonesia\"]"
   ]
  },
  {
   "cell_type": "code",
   "execution_count": 32,
   "metadata": {},
   "outputs": [],
   "source": [
    "#Criando coluna com valores 0 para todos os paises \n",
    "produtores_petroleo.loc[:, \"opep\"] = 0\n",
    "idh.loc[:, \"opep\"] = 0"
   ]
  },
  {
   "cell_type": "code",
   "execution_count": 33,
   "metadata": {},
   "outputs": [],
   "source": [
    "#Alterando o índice das tabelas \n",
    "produtores_petroleo_idx = produtores_petroleo.set_index('country')\n",
    "produtores_petroleo_idx2 = produtores_petroleo.set_index('country')\n",
    "produtores_petroleo_idx3 = produtores_petroleo.set_index('country')\n",
    "idh_idx = idh.set_index('country')\n",
    "idh_idx2 = idh.set_index('country')"
   ]
  },
  {
   "cell_type": "code",
   "execution_count": 56,
   "metadata": {},
   "outputs": [],
   "source": [
    "#Alterando os valores dos países da OPEP de 0 para 1 nas tabelas\n",
    "OPEP = produtores_petroleo_idx.loc[paises_OPEP_1990, \"opep\"] = 1\n",
    "OPEP_1975 = produtores_petroleo_idx2.loc[paises_OPEP_1975, \"opep\"] = 1\n",
    "OPEP_2016 = produtores_petroleo_idx3.loc[paises_OPEP_2016, \"opep\"] = 1\n",
    "\n",
    "IDH_1990 = idh_idx.loc[paises_OPEP_1990, \"opep\"] = 1\n",
    "IDH_2016 = idh_idx2.loc[paises_OPEP_2016, \"opep\"] = 1"
   ]
  },
  {
   "cell_type": "markdown",
   "metadata": {},
   "source": [
    "### Ao entrar na OPEP um país aumenta consideravelmente sua produção de petróleo?"
   ]
  },
  {
   "cell_type": "markdown",
   "metadata": {},
   "source": [
    "Para analizar essa pergunta escolhemos observar os dados de 3 países (Gabão, Equador e Nigéria) ao longos dos anos de 1965 até 2000. A escolha dos países foi feita devido aos anos de entrada na OPEP, já que muitos entraram muito próximos, ou até antes, de 1965, ou então, entraram muito recentemente, o que prejudica a análise desejada."
   ]
  },
  {
   "cell_type": "code",
   "execution_count": 35,
   "metadata": {},
   "outputs": [],
   "source": [
    "#Recortando a tabela pegando apenas os países que desejamos utilizar\n",
    "GNE = produtores_petroleo_idx.loc[[\"Gabon\", \"Nigeria\", \"Ecuador\" ],:]\n",
    "\n",
    "#Recortar os anos que desejados\n",
    "P3 = GNE[GNE.columns[0:36]]\n",
    "\n",
    "#Transpondo a tabela \n",
    "GNE_transpose = P3.transpose()"
   ]
  },
  {
   "cell_type": "code",
   "execution_count": 36,
   "metadata": {},
   "outputs": [
    {
     "data": {
      "text/plain": [
       "Text(0.5, 1.0, 'Produção de petróleo de 1965 até 2005')"
      ]
     },
     "execution_count": 36,
     "metadata": {},
     "output_type": "execute_result"
    },
    {
     "data": {
      "image/png": "[encoded data removed]",
      "text/plain": [
       "<Figure size 432x288 with 1 Axes>"
      ]
     },
     "metadata": {
      "needs_background": "light"
     },
     "output_type": "display_data"
    }
   ],
   "source": [
    "#Plotando o gráfico para a vizualização dos dados \n",
    "GNE_transpose.plot(kind='bar', color=('yellow', 'salmon', 'green'))\n",
    "plt.ylabel('Produção de Petrólro')\n",
    "plt.xlabel('Anos')\n",
    "plt.title('Produção de petróleo de 1965 até 2005')"
   ]
  },
  {
   "cell_type": "markdown",
   "metadata": {},
   "source": [
    "Como podemos ver para o Gabão, que entrou na OPEP em 1975 e saiu em 1994, participar do cartel não alterou a produção interna de petróleo. O país já passava por um aumento de produção e depois que entrou no cartel chegou ao seu pico diminuindo logo depois. Podemos ver também que, mesmo deixando o cartel em 1994, a produção depetróleo não é alterada. \n",
    "\n",
    "Para a Nigéria, que ingressou em 1971, podemos notar um alto crescimento na produção nos anos de 1972, 1973 e 1974. Porém, ao analizarmos o gráfico, nota-se que o país já apresentava um movimento alto de crescimento antes mesmo de entrar na OPEP. Sendo assim, não podemos chegar à uma conclusão se esse aumento foi ou não impulsionado pela participação na OPEP ou não. \n",
    "\n",
    "Em 1973 o Equador inicia a atuar como um membro da organização. Podemos notar um altíssimo aumento na prdução de petróleo nesse ano, que se manteve ao longo dos outros anos. O que talvez possa indicar que ingressar na OPEP o Equador buscou aumentar sua produção anual de petróleo. Porém, ao sair do cartel, em 1992, a produção continua a crescer em baixas taxas.   "
   ]
  },
  {
   "cell_type": "markdown",
   "metadata": {},
   "source": [
    "**Será que a OPEP realmente era uma organização com representatividade no mercado produtivo de petróleo ao longo desses anos?**\n",
    "\n",
    "Para analizar isso vamos fazer a análise da produção de petróleo em 1975 (primeiro ano em que todos os países escolhidos estavem dentro da OPEP) em comparação com os anos atuais"
   ]
  },
  {
   "cell_type": "code",
   "execution_count": 45,
   "metadata": {},
   "outputs": [],
   "source": [
    "#Recortando a tabela pegando apenas os países que desejados e retirando os valores nulos\n",
    "OPEP_1975 = produtores_petroleo_idx2.loc[:,[1975, \"opep\"]].dropna()"
   ]
  },
  {
   "cell_type": "code",
   "execution_count": 46,
   "metadata": {},
   "outputs": [
    {
     "data": {
      "text/plain": [
       "Text(0.5, 1.0, 'Produção de petróleo em 1975')"
      ]
     },
     "execution_count": 46,
     "metadata": {},
     "output_type": "execute_result"
    },
    {
     "data": {
      "image/png": "[encoded data removed]",
      "text/plain": [
       "<Figure size 432x288 with 1 Axes>"
      ]
     },
     "metadata": {},
     "output_type": "display_data"
    }
   ],
   "source": [
    "#Somando a produção de petróleo anual dos países\n",
    "pie_1975 = OPEP_1975.groupby(\"opep\").sum() \n",
    "\n",
    "#Plotando o gráfico para a visualização\n",
    "pie_1975[1975].plot(kind='pie', colors=('blue', 'red'), autopct=\"%0.2f\",legend=False)\n",
    "plt.title('Produção de petróleo em 1975')"
   ]
  },
  {
   "cell_type": "markdown",
   "metadata": {},
   "source": [
    "**Comparando a representatividade da OPEP de 1975 com 1990 e com atualmente**"
   ]
  },
  {
   "cell_type": "code",
   "execution_count": 47,
   "metadata": {},
   "outputs": [],
   "source": [
    "#Recortando a tabela pegando apenas os países que desejados e retirando os valores nulos\n",
    "OPEP_1990= produtores_petroleo_idx.loc[:,[1990, \"opep\"]].dropna()"
   ]
  },
  {
   "cell_type": "code",
   "execution_count": 48,
   "metadata": {},
   "outputs": [
    {
     "data": {
      "text/plain": [
       "Text(0.5, 1.0, 'Produção de petróleo em 1990')"
      ]
     },
     "execution_count": 48,
     "metadata": {},
     "output_type": "execute_result"
    },
    {
     "data": {
      "image/png": "[encoded data removed]",
      "text/plain": [
       "<Figure size 432x288 with 1 Axes>"
      ]
     },
     "metadata": {},
     "output_type": "display_data"
    }
   ],
   "source": [
    "#Somando a produção de petróleo anual dos países\n",
    "pie_1990 = OPEP_1990.groupby(\"opep\").sum() \n",
    "\n",
    "#Plotando o gráfico para a visualização\n",
    "pie_1990[1990].plot(kind='pie', colors=('blue', 'red'), autopct=\"%0.2f\",legend=False)\n",
    "plt.title('Produção de petróleo em 1990')"
   ]
  },
  {
   "cell_type": "code",
   "execution_count": 49,
   "metadata": {},
   "outputs": [],
   "source": [
    "#Recortando a tabela pegando apenas os países que desejados e retirando os valores nulos\n",
    "OPEP_2016 = produtores_petroleo_idx3.loc[:,[2016, \"opep\"]].dropna()"
   ]
  },
  {
   "cell_type": "code",
   "execution_count": 50,
   "metadata": {},
   "outputs": [
    {
     "data": {
      "text/plain": [
       "Text(0.5, 1.0, 'Produção de petróleo em 2016')"
      ]
     },
     "execution_count": 50,
     "metadata": {},
     "output_type": "execute_result"
    },
    {
     "data": {
      "image/png": "[encoded data removed]",
      "text/plain": [
       "<Figure size 432x288 with 1 Axes>"
      ]
     },
     "metadata": {},
     "output_type": "display_data"
    }
   ],
   "source": [
    "#Somando a produção de petróleo anual dos países\n",
    "pie_2016 = OPEP_2016.groupby(\"opep\").sum() \n",
    "\n",
    "#Plotando o gráfico para a visualização\n",
    "pie_2016[2016].plot(kind='pie', colors=('blue', 'red'), autopct=\"%0.2f\",legend=False)\n",
    "plt.title('Produção de petróleo em 2016')"
   ]
  },
  {
   "cell_type": "markdown",
   "metadata": {},
   "source": [
    "INSERIR ANÁLISE DOS GRÁFICOS"
   ]
  },
  {
   "cell_type": "markdown",
   "metadata": {},
   "source": [
    "### Análise do IDH dos países"
   ]
  },
  {
   "cell_type": "code",
   "execution_count": 57,
   "metadata": {},
   "outputs": [
    {
     "name": "stderr",
     "output_type": "stream",
     "text": [
      "C:\\Users\\Roberto\\Anaconda3\\lib\\site-packages\\pandas\\core\\indexing.py:1472: FutureWarning: \n",
      "Passing list-likes to .loc or [] with any missing label will raise\n",
      "KeyError in the future, you can use .reindex() as an alternative.\n",
      "\n",
      "See the documentation here:\n",
      "https://pandas.pydata.org/pandas-docs/stable/indexing.html#deprecate-loc-reindex-listlike\n",
      "  return self._getitem_tuple(key)\n"
     ]
    }
   ],
   "source": [
    "#Recortando a tabela pegando apenas os países que desejamos utilizar\n",
    "IDH_1990 = idh_idx.loc[:,[1990, \"opep\"]].dropna()\n",
    "\n",
    "IDH_2016 = idh_idx2.loc[:,[2016, \"opep\"]].dropna()"
   ]
  },
  {
   "cell_type": "code",
   "execution_count": null,
   "metadata": {},
   "outputs": [],
   "source": [
    "IDH_PP_1975 = OPEP_1975.join(IDH_1975, how='inner', lsuffix='_PIB', rsuffix='_petroleo')\n",
    "\n",
    "\n",
    "pib_opep"
   ]
  }
 ],
 "metadata": {
  "kernelspec": {
   "display_name": "Python 3",
   "language": "python",
   "name": "python3"
  },
  "language_info": {
   "codemirror_mode": {
    "name": "ipython",
    "version": 3
   },
   "file_extension": ".py",
   "mimetype": "text/x-python",
   "name": "python",
   "nbconvert_exporter": "python",
   "pygments_lexer": "ipython3",
   "version": "3.7.1"
  }
 },
 "nbformat": 4,
 "nbformat_minor": 2
}
