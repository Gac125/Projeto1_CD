{
 "cells": [
  {
   "cell_type": "markdown",
   "metadata": {},
   "source": [
    "# Projeto de Ciência dos Dados \n",
    "\n",
    "**Professor: Fábio Roberto Miranda**\n",
    "\n",
    "**Aluna: Giulia Araujo Castro - 2B - Engenharia Mecatrônica**"
   ]
  },
  {
   "cell_type": "markdown",
   "metadata": {},
   "source": [
    "**Perguntas:**\n",
    "\n",
    "Ao entrar na OPEP um país altera sua produção de petróleo? Pertencer à OPEP significa conseguir aumentar a quaidade de vida de seus cidadões? "
   ]
  },
  {
   "cell_type": "markdown",
   "metadata": {},
   "source": [
    "## A OPEP"
   ]
  },
  {
   "cell_type": "markdown",
   "metadata": {},
   "source": [
    "A OPEP (Organização dos Países Exportadores de Petróleo) funciona como uma espécie de cartel que unifica as leis e preços dos barris dos principais exportadores de petróleo, buscando, assim, estabilizar o mercado de petróleo. Ou seja, os paises participantes da OPEP conseguem agregar mais valor aos seus barris e, em teoria, conseguem ganhar a mesma quantidade de dinheiro produzindo menos.\n",
    "\n",
    "Para saber mais, acesse o site da OPEP: https://www.opec.org/opec_web/en/about_us/23.htm"
   ]
  },
  {
   "cell_type": "markdown",
   "metadata": {},
   "source": [
    "## Explicação da hipótese e mecanismo"
   ]
  },
  {
   "cell_type": "markdown",
   "metadata": {},
   "source": [
    "ARRUMAR"
   ]
  },
  {
   "cell_type": "markdown",
   "metadata": {},
   "source": [
    "## Bases de dados usadas"
   ]
  },
  {
   "cell_type": "markdown",
   "metadata": {},
   "source": [
    "Foram coletados 2 dados do site https://www.gapminder.org/data/\n",
    "\n",
    "1) Produção de petróleo anual\n",
    "\n",
    "2) IDH\n",
    "\n",
    "Com esses dados podemos observar a produção de petróleo ao redor do mundo (1) e observar se a OPEP tem influência na produção de cada país. Além disso, podemos observar se há um crescimento significativo do PIB (2) e se esse crecimento ao mesmo tempo gera uma redução do índice de Gini.  "
   ]
  },
  {
   "cell_type": "markdown",
   "metadata": {},
   "source": [
    "## Análise dos dados"
   ]
  },
  {
   "cell_type": "code",
   "execution_count": 60,
   "metadata": {},
   "outputs": [],
   "source": [
    "#Carregando as bibliotecas\n",
    "%matplotlib inline\n",
    "import pandas as pd\n",
    "import matplotlib.pyplot as plt\n",
    "import numpy as np"
   ]
  },
  {
   "cell_type": "code",
   "execution_count": 61,
   "metadata": {},
   "outputs": [],
   "source": [
    "#Abrindo as planílhas do Excel\n",
    "produtores_petroleo = pd.read_excel('oil_production_total.xlsx')\n",
    "idh = pd.read_excel('hdi_human_development_index.xlsx')"
   ]
  },
  {
   "cell_type": "code",
   "execution_count": 62,
   "metadata": {},
   "outputs": [],
   "source": [
    "#Lista com os países pertencentes à OPEP\n",
    "paises_OPEP_1990 = [\"Angola\", \"Algeria\", \"Gabon\", \"Equatorial Guinea\", \"Libya\", \"Nigeria\", \"Venezuela\", \"Ecuador\", \"Saudi Arabia\", \"United Arab Emirates\", \"Iran\", \"Iraq\", \"Kuwait\", \"Qatar\", \"Indonesia\"]\n",
    "paises_OPEP_1975 = [\"Algeria\", \"Gabon\", \"Libya\", \"Nigeria\", \"Venezuela\", \"Ecuador\", \"Saudi Arabia\", \"United Arab Emirates\", \"Iran\", \"Iraq\", \"Kuwait\", \"Qatar\", \"Indonesia\"]\n",
    "paises_OPEP_2015 = [\"Angola\", \"Algeria\", \"Libya\", \"Nigeria\", \"Venezuela\", \"Ecuador\", \"Saudi Arabia\", \"United Arab Emirates\", \"Iran\", \"Iraq\", \"Kuwait\", \"Qatar\"]"
   ]
  },
  {
   "cell_type": "code",
   "execution_count": 63,
   "metadata": {},
   "outputs": [],
   "source": [
    "#Criando coluna com valores 0 para todos os paises \n",
    "produtores_petroleo.loc[:, \"opep\"] = 0\n",
    "idh.loc[:, \"opep\"] = 0"
   ]
  },
  {
   "cell_type": "code",
   "execution_count": 64,
   "metadata": {},
   "outputs": [],
   "source": [
    "#Alterando o índice das tabelas \n",
    "produtores_petroleo_idx = produtores_petroleo.set_index('country')\n",
    "produtores_petroleo_idx2 = produtores_petroleo.set_index('country')\n",
    "produtores_petroleo_idx3 = produtores_petroleo.set_index('country')\n",
    "idh_idx = idh.set_index('country')\n",
    "idh_idx2 = idh.set_index('country')"
   ]
  },
  {
   "cell_type": "code",
   "execution_count": 65,
   "metadata": {},
   "outputs": [],
   "source": [
    "#Alterando os valores dos países da OPEP de 0 para 1 nas tabelas\n",
    "OPEP = produtores_petroleo_idx.loc[paises_OPEP_1990, \"opep\"] = 1\n",
    "OPEP_1975 = produtores_petroleo_idx2.loc[paises_OPEP_1975, \"opep\"] = 1\n",
    "OPEP_2015 = produtores_petroleo_idx3.loc[paises_OPEP_2016, \"opep\"] = 1\n",
    "\n",
    "IDH_1990 = idh_idx.loc[paises_OPEP_1990, \"opep\"] = 1\n",
    "IDH_2015 = idh_idx2.loc[paises_OPEP_2016, \"opep\"] = 1"
   ]
  },
  {
   "cell_type": "markdown",
   "metadata": {},
   "source": [
    "### Ao entrar na OPEP um país aumenta consideravelmente sua produção de petróleo?"
   ]
  },
  {
   "cell_type": "markdown",
   "metadata": {},
   "source": [
    "Para analizar essa pergunta escolhemos observar os dados de 3 países (Gabão, Equador e Nigéria) ao longos dos anos de 1965 até 2000. A escolha dos países foi feita devido aos anos de entrada na OPEP, já que muitos entraram muito próximos, ou até antes, de 1965, ou então, entraram muito recentemente, o que prejudica a análise desejada."
   ]
  },
  {
   "cell_type": "code",
   "execution_count": 66,
   "metadata": {},
   "outputs": [],
   "source": [
    "#Recortando a tabela pegando apenas os países que desejamos utilizar\n",
    "GNE = produtores_petroleo_idx.loc[[\"Gabon\", \"Nigeria\", \"Ecuador\" ],:]\n",
    "\n",
    "#Recortar os anos que desejados\n",
    "P3 = GNE[GNE.columns[0:36]]\n",
    "\n",
    "#Transpondo a tabela \n",
    "GNE_transpose = P3.transpose()"
   ]
  },
  {
   "cell_type": "code",
   "execution_count": 67,
   "metadata": {},
   "outputs": [
    {
     "data": {
      "text/plain": [
       "Text(0.5, 1.0, 'Produção de petróleo de 1965 até 2005')"
      ]
     },
     "execution_count": 67,
     "metadata": {},
     "output_type": "execute_result"
    },
    {
     "data": {
      "image/png": "[encoded data removed]",
      "text/plain": [
       "<Figure size 432x288 with 1 Axes>"
      ]
     },
     "metadata": {
      "needs_background": "light"
     },
     "output_type": "display_data"
    }
   ],
   "source": [
    "#Plotando o gráfico para a vizualização dos dados \n",
    "GNE_transpose.plot(kind='bar', color=('yellow', 'salmon', 'green'))\n",
    "plt.ylabel('Produção de Petrólro')\n",
    "plt.xlabel('Anos')\n",
    "plt.title('Produção de petróleo de 1965 até 2005')"
   ]
  },
  {
   "cell_type": "markdown",
   "metadata": {},
   "source": [
    "Como podemos ver para o Gabão, que entrou na OPEP em 1975 e saiu em 1994, participar do cartel não alterou a produção interna de petróleo. O país já passava por um aumento de produção e depois que entrou no cartel chegou ao seu pico diminuindo logo depois. Podemos ver também que, mesmo deixando o cartel em 1994, a produção depetróleo não é alterada. \n",
    "\n",
    "Para a Nigéria, que ingressou em 1971, podemos notar um alto crescimento na produção nos anos de 1972, 1973 e 1974. Porém, ao analizarmos o gráfico, nota-se que o país já apresentava um movimento alto de crescimento antes mesmo de entrar na OPEP. Sendo assim, não podemos chegar à uma conclusão se esse aumento foi ou não impulsionado pela participação na OPEP ou não. \n",
    "\n",
    "Em 1973 o Equador inicia a atuar como um membro da organização. Podemos notar um altíssimo aumento na prdução de petróleo nesse ano, que se manteve ao longo dos outros anos. O que talvez possa indicar que ingressar na OPEP o Equador buscou aumentar sua produção anual de petróleo. Porém, ao sair do cartel, em 1992, a produção continua a crescer em baixas taxas.   "
   ]
  },
  {
   "cell_type": "markdown",
   "metadata": {},
   "source": [
    "**Será que a OPEP realmente era uma organização com representatividade no mercado produtivo de petróleo ao longo desses anos?**\n",
    "\n",
    "Para analizar isso vamos fazer a análise da produção de petróleo em 1975 (primeiro ano em que todos os países escolhidos estavem dentro da OPEP) em comparação com os anos atuais"
   ]
  },
  {
   "cell_type": "code",
   "execution_count": 68,
   "metadata": {},
   "outputs": [],
   "source": [
    "#Recortando a tabela pegando apenas os países que desejados e retirando os valores nulos\n",
    "OPEP_1975 = produtores_petroleo_idx2.loc[:,[1975, \"opep\"]].dropna()"
   ]
  },
  {
   "cell_type": "code",
   "execution_count": 69,
   "metadata": {},
   "outputs": [
    {
     "data": {
      "text/plain": [
       "Text(0.5, 1.0, 'Produção de petróleo em 1975')"
      ]
     },
     "execution_count": 69,
     "metadata": {},
     "output_type": "execute_result"
    },
    {
     "data": {
      "image/png": "[encoded data removed]",
      "text/plain": [
       "<Figure size 432x288 with 1 Axes>"
      ]
     },
     "metadata": {},
     "output_type": "display_data"
    }
   ],
   "source": [
    "#Somando a produção de petróleo anual dos países\n",
    "pie_1975 = OPEP_1975.groupby(\"opep\").sum() \n",
    "\n",
    "#Plotando o gráfico para a visualização\n",
    "pie_1975[1975].plot(kind='pie', colors=('blue', 'red'), autopct=\"%0.2f\",legend=False)\n",
    "plt.title('Produção de petróleo em 1975')"
   ]
  },
  {
   "cell_type": "markdown",
   "metadata": {},
   "source": [
    "**Comparando a representatividade da OPEP de 1975 com 1990 e com atualmente**"
   ]
  },
  {
   "cell_type": "code",
   "execution_count": 70,
   "metadata": {},
   "outputs": [],
   "source": [
    "#Recortando a tabela pegando apenas os países que desejados e retirando os valores nulos\n",
    "OPEP_1990= produtores_petroleo_idx.loc[:,[1990, \"opep\"]].dropna()"
   ]
  },
  {
   "cell_type": "code",
   "execution_count": 71,
   "metadata": {},
   "outputs": [
    {
     "data": {
      "text/plain": [
       "Text(0.5, 1.0, 'Produção de petróleo em 1990')"
      ]
     },
     "execution_count": 71,
     "metadata": {},
     "output_type": "execute_result"
    },
    {
     "data": {
      "image/png": "[encoded data removed]",
      "text/plain": [
       "<Figure size 432x288 with 1 Axes>"
      ]
     },
     "metadata": {},
     "output_type": "display_data"
    }
   ],
   "source": [
    "#Somando a produção de petróleo anual dos países\n",
    "pie_1990 = OPEP_1990.groupby(\"opep\").sum() \n",
    "\n",
    "#Plotando o gráfico para a visualização\n",
    "pie_1990[1990].plot(kind='pie', colors=('blue', 'red'), autopct=\"%0.2f\",legend=False)\n",
    "plt.title('Produção de petróleo em 1990')"
   ]
  },
  {
   "cell_type": "code",
   "execution_count": 72,
   "metadata": {},
   "outputs": [],
   "source": [
    "#Recortando a tabela pegando apenas os países que desejados e retirando os valores nulos\n",
    "OPEP_2015 = produtores_petroleo_idx3.loc[:,[2015, \"opep\"]].dropna()"
   ]
  },
  {
   "cell_type": "code",
   "execution_count": 73,
   "metadata": {},
   "outputs": [
    {
     "data": {
      "text/plain": [
       "Text(0.5, 1.0, 'Produção de petróleo em 2016')"
      ]
     },
     "execution_count": 73,
     "metadata": {},
     "output_type": "execute_result"
    },
    {
     "data": {
      "image/png": "[encoded data removed]",
      "text/plain": [
       "<Figure size 432x288 with 1 Axes>"
      ]
     },
     "metadata": {},
     "output_type": "display_data"
    }
   ],
   "source": [
    "#Somando a produção de petróleo anual dos países\n",
    "pie_2015 = OPEP_2015.groupby(\"opep\").sum() \n",
    "\n",
    "#Plotando o gráfico para a visualização\n",
    "pie_2015[2015].plot(kind='pie', colors=('blue', 'red'), autopct=\"%0.2f\",legend=False)\n",
    "plt.title('Produção de petróleo em 2016')"
   ]
  },
  {
   "cell_type": "markdown",
   "metadata": {},
   "source": [
    "INSERIR ANÁLISE DOS GRÁFICOS"
   ]
  },
  {
   "cell_type": "markdown",
   "metadata": {},
   "source": [
    "### Análise do IDH dos países"
   ]
  },
  {
   "cell_type": "code",
   "execution_count": 74,
   "metadata": {},
   "outputs": [],
   "source": [
    "#Recortando a tabela pegando apenas os países que desejamos utilizar\n",
    "IDH_1990 = idh_idx.loc[:,[1990, \"opep\"]].dropna()\n",
    "\n",
    "IDH_2015 = idh_idx2.loc[:,[2015, \"opep\"]].dropna()"
   ]
  },
  {
   "cell_type": "code",
   "execution_count": 86,
   "metadata": {},
   "outputs": [
    {
     "data": {
      "text/html": [
       "<div>\n",
       "<style scoped>\n",
       "    .dataframe tbody tr th:only-of-type {\n",
       "        vertical-align: middle;\n",
       "    }\n",
       "\n",
       "    .dataframe tbody tr th {\n",
       "        vertical-align: top;\n",
       "    }\n",
       "\n",
       "    .dataframe thead th {\n",
       "        text-align: right;\n",
       "    }\n",
       "</style>\n",
       "<table border=\"1\" class=\"dataframe\">\n",
       "  <thead>\n",
       "    <tr style=\"text-align: right;\">\n",
       "      <th></th>\n",
       "      <th>1990_IDH</th>\n",
       "      <th>opep_IDH</th>\n",
       "      <th>1990_petroleo</th>\n",
       "      <th>opep_petroleo</th>\n",
       "    </tr>\n",
       "    <tr>\n",
       "      <th>country</th>\n",
       "      <th></th>\n",
       "      <th></th>\n",
       "      <th></th>\n",
       "      <th></th>\n",
       "    </tr>\n",
       "  </thead>\n",
       "  <tbody>\n",
       "    <tr>\n",
       "      <th>Algeria</th>\n",
       "      <td>57500000.0</td>\n",
       "      <td>1</td>\n",
       "      <td>0.577</td>\n",
       "      <td>1</td>\n",
       "    </tr>\n",
       "    <tr>\n",
       "      <th>Argentina</th>\n",
       "      <td>25400000.0</td>\n",
       "      <td>0</td>\n",
       "      <td>0.705</td>\n",
       "      <td>0</td>\n",
       "    </tr>\n",
       "    <tr>\n",
       "      <th>Australia</th>\n",
       "      <td>30300000.0</td>\n",
       "      <td>0</td>\n",
       "      <td>0.866</td>\n",
       "      <td>0</td>\n",
       "    </tr>\n",
       "    <tr>\n",
       "      <th>Brazil</th>\n",
       "      <td>34100000.0</td>\n",
       "      <td>0</td>\n",
       "      <td>0.611</td>\n",
       "      <td>0</td>\n",
       "    </tr>\n",
       "    <tr>\n",
       "      <th>Brunei</th>\n",
       "      <td>7320000.0</td>\n",
       "      <td>0</td>\n",
       "      <td>0.782</td>\n",
       "      <td>0</td>\n",
       "    </tr>\n",
       "    <tr>\n",
       "      <th>Canada</th>\n",
       "      <td>92800000.0</td>\n",
       "      <td>0</td>\n",
       "      <td>0.849</td>\n",
       "      <td>0</td>\n",
       "    </tr>\n",
       "    <tr>\n",
       "      <th>China</th>\n",
       "      <td>138000000.0</td>\n",
       "      <td>0</td>\n",
       "      <td>0.499</td>\n",
       "      <td>0</td>\n",
       "    </tr>\n",
       "    <tr>\n",
       "      <th>Colombia</th>\n",
       "      <td>23400000.0</td>\n",
       "      <td>0</td>\n",
       "      <td>0.592</td>\n",
       "      <td>0</td>\n",
       "    </tr>\n",
       "    <tr>\n",
       "      <th>Congo, Rep.</th>\n",
       "      <td>8030000.0</td>\n",
       "      <td>0</td>\n",
       "      <td>0.521</td>\n",
       "      <td>0</td>\n",
       "    </tr>\n",
       "    <tr>\n",
       "      <th>Denmark</th>\n",
       "      <td>5900000.0</td>\n",
       "      <td>0</td>\n",
       "      <td>0.799</td>\n",
       "      <td>0</td>\n",
       "    </tr>\n",
       "    <tr>\n",
       "      <th>Ecuador</th>\n",
       "      <td>15500000.0</td>\n",
       "      <td>1</td>\n",
       "      <td>0.643</td>\n",
       "      <td>1</td>\n",
       "    </tr>\n",
       "    <tr>\n",
       "      <th>Egypt</th>\n",
       "      <td>45500000.0</td>\n",
       "      <td>0</td>\n",
       "      <td>0.547</td>\n",
       "      <td>0</td>\n",
       "    </tr>\n",
       "    <tr>\n",
       "      <th>Gabon</th>\n",
       "      <td>13500000.0</td>\n",
       "      <td>1</td>\n",
       "      <td>0.620</td>\n",
       "      <td>1</td>\n",
       "    </tr>\n",
       "    <tr>\n",
       "      <th>India</th>\n",
       "      <td>34200000.0</td>\n",
       "      <td>0</td>\n",
       "      <td>0.428</td>\n",
       "      <td>0</td>\n",
       "    </tr>\n",
       "    <tr>\n",
       "      <th>Indonesia</th>\n",
       "      <td>74400000.0</td>\n",
       "      <td>1</td>\n",
       "      <td>0.528</td>\n",
       "      <td>1</td>\n",
       "    </tr>\n",
       "    <tr>\n",
       "      <th>Iran</th>\n",
       "      <td>163000000.0</td>\n",
       "      <td>1</td>\n",
       "      <td>0.572</td>\n",
       "      <td>1</td>\n",
       "    </tr>\n",
       "    <tr>\n",
       "      <th>Iraq</th>\n",
       "      <td>105000000.0</td>\n",
       "      <td>1</td>\n",
       "      <td>0.572</td>\n",
       "      <td>1</td>\n",
       "    </tr>\n",
       "    <tr>\n",
       "      <th>Italy</th>\n",
       "      <td>4670000.0</td>\n",
       "      <td>0</td>\n",
       "      <td>0.768</td>\n",
       "      <td>0</td>\n",
       "    </tr>\n",
       "    <tr>\n",
       "      <th>Kazakhstan</th>\n",
       "      <td>25800000.0</td>\n",
       "      <td>0</td>\n",
       "      <td>0.690</td>\n",
       "      <td>0</td>\n",
       "    </tr>\n",
       "    <tr>\n",
       "      <th>Kuwait</th>\n",
       "      <td>46800000.0</td>\n",
       "      <td>1</td>\n",
       "      <td>0.713</td>\n",
       "      <td>1</td>\n",
       "    </tr>\n",
       "    <tr>\n",
       "      <th>Libya</th>\n",
       "      <td>67200000.0</td>\n",
       "      <td>1</td>\n",
       "      <td>0.681</td>\n",
       "      <td>1</td>\n",
       "    </tr>\n",
       "    <tr>\n",
       "      <th>Malaysia</th>\n",
       "      <td>29600000.0</td>\n",
       "      <td>0</td>\n",
       "      <td>0.643</td>\n",
       "      <td>0</td>\n",
       "    </tr>\n",
       "    <tr>\n",
       "      <th>Mexico</th>\n",
       "      <td>145000000.0</td>\n",
       "      <td>0</td>\n",
       "      <td>0.648</td>\n",
       "      <td>0</td>\n",
       "    </tr>\n",
       "    <tr>\n",
       "      <th>Norway</th>\n",
       "      <td>82100000.0</td>\n",
       "      <td>0</td>\n",
       "      <td>0.849</td>\n",
       "      <td>0</td>\n",
       "    </tr>\n",
       "    <tr>\n",
       "      <th>Peru</th>\n",
       "      <td>6770000.0</td>\n",
       "      <td>0</td>\n",
       "      <td>0.613</td>\n",
       "      <td>0</td>\n",
       "    </tr>\n",
       "    <tr>\n",
       "      <th>Qatar</th>\n",
       "      <td>21100000.0</td>\n",
       "      <td>1</td>\n",
       "      <td>0.754</td>\n",
       "      <td>1</td>\n",
       "    </tr>\n",
       "    <tr>\n",
       "      <th>Romania</th>\n",
       "      <td>8140000.0</td>\n",
       "      <td>0</td>\n",
       "      <td>0.700</td>\n",
       "      <td>0</td>\n",
       "    </tr>\n",
       "    <tr>\n",
       "      <th>Russia</th>\n",
       "      <td>516000000.0</td>\n",
       "      <td>0</td>\n",
       "      <td>0.733</td>\n",
       "      <td>0</td>\n",
       "    </tr>\n",
       "    <tr>\n",
       "      <th>Saudi Arabia</th>\n",
       "      <td>343000000.0</td>\n",
       "      <td>1</td>\n",
       "      <td>0.698</td>\n",
       "      <td>1</td>\n",
       "    </tr>\n",
       "    <tr>\n",
       "      <th>Syria</th>\n",
       "      <td>20200000.0</td>\n",
       "      <td>0</td>\n",
       "      <td>0.556</td>\n",
       "      <td>0</td>\n",
       "    </tr>\n",
       "    <tr>\n",
       "      <th>Thailand</th>\n",
       "      <td>2440000.0</td>\n",
       "      <td>0</td>\n",
       "      <td>0.574</td>\n",
       "      <td>0</td>\n",
       "    </tr>\n",
       "    <tr>\n",
       "      <th>Trinidad and Tobago</th>\n",
       "      <td>7370000.0</td>\n",
       "      <td>0</td>\n",
       "      <td>0.670</td>\n",
       "      <td>0</td>\n",
       "    </tr>\n",
       "    <tr>\n",
       "      <th>Tunisia</th>\n",
       "      <td>4720000.0</td>\n",
       "      <td>0</td>\n",
       "      <td>0.569</td>\n",
       "      <td>0</td>\n",
       "    </tr>\n",
       "    <tr>\n",
       "      <th>United Arab Emirates</th>\n",
       "      <td>108000000.0</td>\n",
       "      <td>1</td>\n",
       "      <td>0.726</td>\n",
       "      <td>1</td>\n",
       "    </tr>\n",
       "    <tr>\n",
       "      <th>United Kingdom</th>\n",
       "      <td>91600000.0</td>\n",
       "      <td>0</td>\n",
       "      <td>0.775</td>\n",
       "      <td>0</td>\n",
       "    </tr>\n",
       "    <tr>\n",
       "      <th>United States</th>\n",
       "      <td>417000000.0</td>\n",
       "      <td>0</td>\n",
       "      <td>0.860</td>\n",
       "      <td>0</td>\n",
       "    </tr>\n",
       "    <tr>\n",
       "      <th>Venezuela</th>\n",
       "      <td>118000000.0</td>\n",
       "      <td>1</td>\n",
       "      <td>0.634</td>\n",
       "      <td>1</td>\n",
       "    </tr>\n",
       "    <tr>\n",
       "      <th>Vietnam</th>\n",
       "      <td>2700000.0</td>\n",
       "      <td>0</td>\n",
       "      <td>0.477</td>\n",
       "      <td>0</td>\n",
       "    </tr>\n",
       "    <tr>\n",
       "      <th>Yemen</th>\n",
       "      <td>8710000.0</td>\n",
       "      <td>0</td>\n",
       "      <td>0.405</td>\n",
       "      <td>0</td>\n",
       "    </tr>\n",
       "  </tbody>\n",
       "</table>\n",
       "</div>"
      ],
      "text/plain": [
       "                         1990_IDH  opep_IDH  1990_petroleo  opep_petroleo\n",
       "country                                                                  \n",
       "Algeria                57500000.0         1          0.577              1\n",
       "Argentina              25400000.0         0          0.705              0\n",
       "Australia              30300000.0         0          0.866              0\n",
       "Brazil                 34100000.0         0          0.611              0\n",
       "Brunei                  7320000.0         0          0.782              0\n",
       "Canada                 92800000.0         0          0.849              0\n",
       "China                 138000000.0         0          0.499              0\n",
       "Colombia               23400000.0         0          0.592              0\n",
       "Congo, Rep.             8030000.0         0          0.521              0\n",
       "Denmark                 5900000.0         0          0.799              0\n",
       "Ecuador                15500000.0         1          0.643              1\n",
       "Egypt                  45500000.0         0          0.547              0\n",
       "Gabon                  13500000.0         1          0.620              1\n",
       "India                  34200000.0         0          0.428              0\n",
       "Indonesia              74400000.0         1          0.528              1\n",
       "Iran                  163000000.0         1          0.572              1\n",
       "Iraq                  105000000.0         1          0.572              1\n",
       "Italy                   4670000.0         0          0.768              0\n",
       "Kazakhstan             25800000.0         0          0.690              0\n",
       "Kuwait                 46800000.0         1          0.713              1\n",
       "Libya                  67200000.0         1          0.681              1\n",
       "Malaysia               29600000.0         0          0.643              0\n",
       "Mexico                145000000.0         0          0.648              0\n",
       "Norway                 82100000.0         0          0.849              0\n",
       "Peru                    6770000.0         0          0.613              0\n",
       "Qatar                  21100000.0         1          0.754              1\n",
       "Romania                 8140000.0         0          0.700              0\n",
       "Russia                516000000.0         0          0.733              0\n",
       "Saudi Arabia          343000000.0         1          0.698              1\n",
       "Syria                  20200000.0         0          0.556              0\n",
       "Thailand                2440000.0         0          0.574              0\n",
       "Trinidad and Tobago     7370000.0         0          0.670              0\n",
       "Tunisia                 4720000.0         0          0.569              0\n",
       "United Arab Emirates  108000000.0         1          0.726              1\n",
       "United Kingdom         91600000.0         0          0.775              0\n",
       "United States         417000000.0         0          0.860              0\n",
       "Venezuela             118000000.0         1          0.634              1\n",
       "Vietnam                 2700000.0         0          0.477              0\n",
       "Yemen                   8710000.0         0          0.405              0"
      ]
     },
     "execution_count": 86,
     "metadata": {},
     "output_type": "execute_result"
    }
   ],
   "source": [
    "#Fazendo a junção de tabelas\n",
    "IDH_PP_1990 = OPEP_1990.join(IDH_1990, how='inner', lsuffix='_IDH', rsuffix='_petroleo')\n",
    "IDH_PP_2015 = OPEP_2015.join(IDH_2015, how='inner', lsuffix='_IDH', rsuffix='_petroleo')\n",
    "\n",
    "\n",
    "IDH_PP_1990"
   ]
  },
  {
   "cell_type": "code",
   "execution_count": 89,
   "metadata": {},
   "outputs": [
    {
     "data": {
      "image/png": "[encoded data removed]",
      "text/plain": [
       "<Figure size 432x288 with 1 Axes>"
      ]
     },
     "metadata": {
      "needs_background": "light"
     },
     "output_type": "display_data"
    }
   ],
   "source": [
    "plt.scatter(IDH_PP_1990.loc[IDH_PP_1990.opep_petroleo == 1,\"1990_petroleo\"], IDH_PP_1990.loc[IDH_PP_1990.opep_IDH == 1, \"1990_IDH\"], color=\"turquoise\")\n",
    "plt.scatter(IDH_PP_1990.loc[IDH_PP_1990.opep_petroleo == 0,\"1990_petroleo\"], IDH_PP_1990.loc[IDH_PP_1990.opep_IDH == 0, \"1990_IDH\"], color=\"indigo\")\n",
    "plt.grid()"
   ]
  },
  {
   "cell_type": "code",
   "execution_count": null,
   "metadata": {},
   "outputs": [],
   "source": []
  }
 ],
 "metadata": {
  "kernelspec": {
   "display_name": "Python 3",
   "language": "python",
   "name": "python3"
  },
  "language_info": {
   "codemirror_mode": {
    "name": "ipython",
    "version": 3
   },
   "file_extension": ".py",
   "mimetype": "text/x-python",
   "name": "python",
   "nbconvert_exporter": "python",
   "pygments_lexer": "ipython3",
   "version": "3.7.1"
  }
 },
 "nbformat": 4,
 "nbformat_minor": 2
}
